{
 "cells": [
  {
   "cell_type": "code",
   "execution_count": 281,
   "metadata": {},
   "outputs": [],
   "source": [
    "from mesa import Agent, Model\n",
    "from mesa.space import MultiGrid\n",
    "from mesa.time import RandomActivation\n",
    "from mesa.datacollection import DataCollector\n",
    "import numpy as np\n",
    "import random\n",
    "import matplotlib.pyplot as plt\n",
    "import matplotlib.animation as animation\n",
    "\n",
    "random.seed(67890)"
   ]
  },
  {
   "cell_type": "code",
   "execution_count": 282,
   "metadata": {},
   "outputs": [],
   "source": [
    "class Robot(Agent):\n",
    "    def __init__(self, unique_id, model):\n",
    "        super().__init__(unique_id, model)\n",
    "        self.box_carried = False\n",
    "\n",
    "    def move(self):\n",
    "        possible_steps = self.model.grid.get_neighborhood(\n",
    "            self.pos, moore=True, include_center=False)\n",
    "        if not self.box_carried:\n",
    "            possible_steps = [\n",
    "                pos for pos in possible_steps if self.model.is_box(pos)] or possible_steps\n",
    "        elif self.box_carried:\n",
    "            possible_steps = [\n",
    "                pos for pos in possible_steps if self.model.boxes[pos[0]][pos[1]] < 5] or possible_steps\n",
    "        new_position = self.random.choice(possible_steps)\n",
    "        self.model.grid.move_agent(self, new_position)\n",
    "\n",
    "    def step(self):\n",
    "        if not self.box_carried and self.model.is_box(self.pos):\n",
    "            self.box_carried = True\n",
    "            self.model.pick_box(self.pos)\n",
    "        elif self.box_carried and self.model.boxes[self.pos[0]][self.pos[1]] < 5:\n",
    "            self.box_carried = False\n",
    "            self.model.place_box(self.pos)\n",
    "        self.move()"
   ]
  },
  {
   "cell_type": "code",
   "execution_count": 283,
   "metadata": {},
   "outputs": [],
   "source": [
    "def get_grid(model):\n",
    "    grid = np.zeros((model.grid.width, model.grid.height))\n",
    "    for (cell_content, (x,y)) in model.grid.coord_iter():\n",
    "        if cell_content:\n",
    "            grid[x][y] = 7\n",
    "    for i in range(model.grid.width):\n",
    "        for j in range(model.grid.height):\n",
    "            if model.boxes[i][j] > 0:\n",
    "                grid[i][j] = model.boxes[i][j]\n",
    "    return grid"
   ]
  },
  {
   "cell_type": "code",
   "execution_count": 284,
   "metadata": {},
   "outputs": [],
   "source": [
    "class WarehouseModel(Model):\n",
    "    def __init__(self, width, height, num_agents, num_boxes):\n",
    "        self.width = width\n",
    "        self.height = height\n",
    "        self.num_agents = num_agents\n",
    "        self.num_boxes = num_boxes\n",
    "        self.boxes = np.zeros((width, height))\n",
    "\n",
    "        self.grid = MultiGrid(width, height, torus=False)\n",
    "        self.schedule = RandomActivation(self)\n",
    "        self.datacollector = DataCollector(model_reporters={\"Grid\": get_grid})\n",
    "\n",
    "        # Place agents\n",
    "        robotId = 0\n",
    "        for _ in range(self.num_agents):\n",
    "            a = Robot(robotId, self)\n",
    "            self.schedule.add(a)\n",
    "            pos = self.random_empty_cell()\n",
    "            while self.is_box(pos):\n",
    "                pos = self.random_empty_cell()\n",
    "            self.grid.place_agent(a, pos)\n",
    "            robotId += 1\n",
    "\n",
    "        # Place boxes\n",
    "        for _ in range(self.num_boxes):\n",
    "            pos = self.random_position()\n",
    "            while self.init_full(pos):\n",
    "                pos = self.random_position()\n",
    "            self.boxes[pos[0]][pos[1]] += 1\n",
    "\n",
    "    def is_box(self, pos):\n",
    "        return self.boxes[pos[0]][pos[1]] > 0\n",
    "    \n",
    "    def init_full(self, pos):\n",
    "        return self.boxes[pos[0]][pos[1]] == 3\n",
    "\n",
    "    def pick_box(self, pos):\n",
    "        if self.is_box(pos):\n",
    "            self.boxes[pos[0]][pos[1]] -= 1\n",
    "\n",
    "    def place_box(self, pos):\n",
    "        self.boxes[pos[0]][pos[1]] += 1\n",
    "\n",
    "    def count_carried_boxes(self):\n",
    "        return sum(agent.box_carried for agent in self.schedule.agents)\n",
    "\n",
    "    def random_empty_cell(self):\n",
    "        empty_cells = [(x, y) for x in range(self.width) for y in range(self.height) if self.grid.is_cell_empty((x, y))]\n",
    "        if not empty_cells:\n",
    "            raise Exception(\"No empty cells available.\")\n",
    "        return random.choice(empty_cells)\n",
    "    \n",
    "    def random_position(self):\n",
    "        x = random.randint(0, self.width - 1)\n",
    "        y = random.randint(0, self.height - 1)\n",
    "        return (x, y)\n",
    "\n",
    "    def is_simulation_done(self):\n",
    "        return np.all(np.logical_or(self.boxes == 0, self.boxes == 5))\n",
    "\n",
    "    def step(self):\n",
    "        self.datacollector.collect(self)\n",
    "        self.schedule.step()"
   ]
  },
  {
   "cell_type": "code",
   "execution_count": 285,
   "metadata": {},
   "outputs": [],
   "source": [
    "WIDTH = 5\n",
    "HEIGHT = 5\n",
    "NUM_AGENTS = 1\n",
    "NUM_BOXES = 2"
   ]
  },
  {
   "cell_type": "code",
   "execution_count": 287,
   "metadata": {},
   "outputs": [
    {
     "data": {
      "text/html": [
       "<div>\n",
       "<style scoped>\n",
       "    .dataframe tbody tr th:only-of-type {\n",
       "        vertical-align: middle;\n",
       "    }\n",
       "\n",
       "    .dataframe tbody tr th {\n",
       "        vertical-align: top;\n",
       "    }\n",
       "\n",
       "    .dataframe thead th {\n",
       "        text-align: right;\n",
       "    }\n",
       "</style>\n",
       "<table border=\"1\" class=\"dataframe\">\n",
       "  <thead>\n",
       "    <tr style=\"text-align: right;\">\n",
       "      <th></th>\n",
       "      <th>Grid</th>\n",
       "    </tr>\n",
       "  </thead>\n",
       "  <tbody>\n",
       "    <tr>\n",
       "      <th>0</th>\n",
       "      <td>[[0.0, 0.0, 0.0, 0.0, 1.0], [0.0, 0.0, 0.0, 0....</td>\n",
       "    </tr>\n",
       "  </tbody>\n",
       "</table>\n",
       "</div>"
      ],
      "text/plain": [
       "                                                Grid\n",
       "0  [[0.0, 0.0, 0.0, 0.0, 1.0], [0.0, 0.0, 0.0, 0...."
      ]
     },
     "execution_count": 287,
     "metadata": {},
     "output_type": "execute_result"
    }
   ],
   "source": [
    "model = WarehouseModel(WIDTH, HEIGHT, NUM_AGENTS, NUM_BOXES)\n",
    "model.step()\n",
    "\n",
    "data = model.datacollector.get_model_vars_dataframe()"
   ]
  }
 ],
 "metadata": {
  "kernelspec": {
   "display_name": "Python 3",
   "language": "python",
   "name": "python3"
  },
  "language_info": {
   "codemirror_mode": {
    "name": "ipython",
    "version": 3
   },
   "file_extension": ".py",
   "mimetype": "text/x-python",
   "name": "python",
   "nbconvert_exporter": "python",
   "pygments_lexer": "ipython3",
   "version": "3.12.0"
  }
 },
 "nbformat": 4,
 "nbformat_minor": 2
}
