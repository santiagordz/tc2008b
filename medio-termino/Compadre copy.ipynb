{
 "cells": [
  {
   "cell_type": "code",
   "execution_count": 1070,
   "metadata": {},
   "outputs": [],
   "source": [
    "from mesa import Agent, Model\n",
    "from mesa.space import MultiGrid\n",
    "from mesa.time import RandomActivation\n",
    "from mesa.datacollection import DataCollector\n",
    "\n",
    "import numpy as np\n",
    "import random\n",
    "\n",
    "%matplotlib inline\n",
    "import matplotlib\n",
    "import matplotlib.pyplot as plt\n",
    "import matplotlib.animation as animation\n",
    "plt.rcParams[\"animation.html\"] = \"jshtml\"\n",
    "matplotlib.rcParams['animation.embed_limit'] = 2**128\n",
    "\n",
    "random.seed(67890)"
   ]
  },
  {
   "cell_type": "code",
   "execution_count": 1071,
   "metadata": {},
   "outputs": [],
   "source": [
    "class Box(Agent):\n",
    "    def __init__(self, unique_id, model):\n",
    "        super().__init__(unique_id, model)\n",
    "        self.type = 1"
   ]
  },
  {
   "cell_type": "code",
   "execution_count": 1072,
   "metadata": {},
   "outputs": [],
   "source": [
    "class Robot(Agent):\n",
    "    def __init__(self, unique_id, model):\n",
    "        super().__init__(unique_id, model)\n",
    "        self.type = 2\n",
    "        self.box_carried = False\n",
    "        self.has_tower = False\n",
    "        self.tower_coord = None\n",
    "\n",
    "    def moveRandom(self):\n",
    "        possible_steps = self.model.grid.get_neighborhood(self.pos, moore=False, include_center=False)\n",
    "        new_position = random.choice(possible_steps)\n",
    "        self.model.grid.move_agent(self, new_position)\n",
    "\n",
    "    def look4tower(self):\n",
    "        neighbors = self.model.grid.get_neighbors(self.pos, moore=True, include_center=False)\n",
    "        has_box = False\n",
    "        for neighbor in neighbors:\n",
    "            if neighbor.isBox():\n",
    "                has_box = True\n",
    "        if has_box:\n",
    "            self.markTower()\n",
    "        else:\n",
    "            self.moveRandom()\n",
    "\n",
    "    def markTower(self):\n",
    "        possibles = self.model.grid.get_neighbors(self.pos, moore=True, include_center=False)\n",
    "        for possible in possibles:\n",
    "            if possible in self.model.towers:\n",
    "                possibles.remove(possible)\n",
    "        \n",
    "        # Get Neighbors Positions\n",
    "        positions = set()\n",
    "        for possible in possibles:\n",
    "            pos = possible.pos\n",
    "            positions.add(pos)\n",
    "        \n",
    "        # Get the highest box count from neighbors\n",
    "        count = 0\n",
    "        tower_pos = None\n",
    "        for position in positions:\n",
    "            box_count  = self.model.boxes[position[0]][position[1]]\n",
    "            if box_count > count:\n",
    "                count = box_count\n",
    "                tower_pos = position\n",
    "                # Set the robot tower coord\n",
    "                self.tower_coord = tower_pos\n",
    "\n",
    "        # Mark the tower\n",
    "        self.has_tower = True\n",
    "        self.model.towers.append(tower_pos)\n",
    "       \n",
    "    # TODO\n",
    "    def look4Box(self): \n",
    "\n",
    "\n",
    "\n",
    "    # def move2tower(self):\n",
    "\n",
    "\n",
    "    def step(self):\n",
    "        self.markTower()\n",
    "        # if not self.box_carried and not self.has_tower:\n",
    "        #     self.look4tower()\n",
    "        # elif not self.box_carried and self.has_tower:\n",
    "        #     self.look4Box()\n",
    "        # elif self.box_carried and self.has_tower:\n",
    "        #     self.move2tower()"
   ]
  },
  {
   "cell_type": "code",
   "execution_count": 1073,
   "metadata": {},
   "outputs": [],
   "source": [
    "def get_grid(model):\n",
    "    grid = np.zeros((model.width, model.height))\n",
    "    for (contents, (x, y)) in model.grid.coord_iter():\n",
    "        for content in contents:\n",
    "            if isinstance(content, Box):\n",
    "                grid[x][y] = model.boxes[x][y]\n",
    "            elif isinstance(content, Robot):\n",
    "                grid[x][y] = 10\n",
    "\n",
    "    return grid"
   ]
  },
  {
   "cell_type": "code",
   "execution_count": 1074,
   "metadata": {},
   "outputs": [],
   "source": [
    "class WarehouseModel(Model):\n",
    "    def __init__(self, width, height, num_agents, num_boxes):\n",
    "        self.width = width\n",
    "        self.height = height\n",
    "        self.num_agents = num_agents\n",
    "        self.num_boxes = num_boxes\n",
    "\n",
    "        self.boxes = np.zeros((width, height))\n",
    "        self.towers = []\n",
    "\n",
    "        self.grid = MultiGrid(width, height, torus=False)\n",
    "        self.schedule = RandomActivation(self)\n",
    "        self.datacollector = DataCollector(model_reporters={\"Grid\": get_grid})\n",
    "\n",
    "        # Place agents\n",
    "        robotId = 0\n",
    "        for _ in range(self.num_agents):\n",
    "            a = Robot(robotId, self)\n",
    "            self.schedule.add(a)\n",
    "            pos = self.random_empty_cell()\n",
    "            while self.is_box(pos):\n",
    "                pos = self.random_empty_cell()\n",
    "            self.grid.place_agent(a, pos)\n",
    "            robotId += 1\n",
    "\n",
    "        # Place boxes\n",
    "        boxId = 10\n",
    "        for _ in range(self.num_boxes):\n",
    "            b = Box(boxId, self)\n",
    "            self.schedule.add(b)\n",
    "            pos = self.random_position()\n",
    "            while self.init_full(pos):\n",
    "                pos = self.random_position()\n",
    "            self.grid.place_agent(b, pos)\n",
    "            self.boxes[pos[0]][pos[1]] += 1\n",
    "            boxId += 1\n",
    "            \n",
    "        # for _ in range(self.num_boxes):\n",
    "        #     pos = self.random_position()\n",
    "        #     while self.init_full(pos):\n",
    "        #         pos = self.random_position()\n",
    "        #     self.boxes[pos[0]][pos[1]] += 1\n",
    "\n",
    "    def is_box(self, pos):\n",
    "        return self.boxes[pos[0]][pos[1]] > 0\n",
    "    \n",
    "    def init_full(self, pos):\n",
    "        return self.boxes[pos[0]][pos[1]] == 3\n",
    "    \n",
    "    def is_tower_full(self, pos):\n",
    "        return self.boxes[pos[0]][pos[1]] == 5\n",
    "\n",
    "    def pick_box(self, pos):\n",
    "        if self.is_box(pos):\n",
    "            self.boxes[pos[0]][pos[1]] -= 1\n",
    "\n",
    "    def place_box(self, pos):\n",
    "        self.boxes[pos[0]][pos[1]] += 1\n",
    "\n",
    "    def count_carried_boxes(self):\n",
    "        return sum(agent.box_carried for agent in self.schedule.agents)\n",
    "\n",
    "    def random_empty_cell(self):\n",
    "        empty_cells = [(x, y) for x in range(self.width) for y in range(self.height) if self.grid.is_cell_empty((x, y))]\n",
    "        if not empty_cells:\n",
    "            raise Exception(\"No empty cells available.\")\n",
    "        return random.choice(empty_cells)\n",
    "    \n",
    "    def random_position(self):\n",
    "        x = random.randint(0, self.width - 1)\n",
    "        y = random.randint(0, self.height - 1)\n",
    "        return (x, y)\n",
    "\n",
    "    def is_simulation_done(self):\n",
    "        return np.all(np.logical_or(self.boxes == 0, self.boxes == 5))\n",
    "\n",
    "    def step(self):\n",
    "        self.datacollector.collect(self)\n",
    "        self.schedule.step()"
   ]
  },
  {
   "cell_type": "code",
   "execution_count": 1075,
   "metadata": {},
   "outputs": [],
   "source": [
    "WIDTH = 20\n",
    "HEIGHT = 20\n",
    "NUM_AGENTS = 1\n",
    "NUM_BOXES = 200"
   ]
  },
  {
   "cell_type": "code",
   "execution_count": 1076,
   "metadata": {},
   "outputs": [
    {
     "name": "stdout",
     "output_type": "stream",
     "text": [
      "[(3, 19)]\n"
     ]
    }
   ],
   "source": [
    "model = WarehouseModel(WIDTH, HEIGHT, NUM_AGENTS, NUM_BOXES)\n",
    "for i in range(1):\n",
    "    model.step()\n",
    "\n",
    "data = model.datacollector.get_model_vars_dataframe()\n",
    "print(model.towers)"
   ]
  },
  {
   "cell_type": "code",
   "execution_count": 1077,
   "metadata": {},
   "outputs": [
    {
     "name": "stderr",
     "output_type": "stream",
     "text": [
      "C:\\Users\\santi\\AppData\\Local\\Temp\\ipykernel_22468\\294774001.py:4: FutureWarning: Series.__getitem__ treating keys as positions is deprecated. In a future version, integer keys will always be treated as labels (consistent with DataFrame behavior). To access a value by position, use `ser.iloc[pos]`\n",
      "  patch = plt.imshow(data.iloc[0][0], cmap=plt.cm.binary)\n",
      "C:\\Users\\santi\\AppData\\Local\\Temp\\ipykernel_22468\\294774001.py:7: FutureWarning: Series.__getitem__ treating keys as positions is deprecated. In a future version, integer keys will always be treated as labels (consistent with DataFrame behavior). To access a value by position, use `ser.iloc[pos]`\n",
      "  patch.set_data(data.iloc[frame][0])\n"
     ]
    },
    {
     "data": {
      "image/png": "[encoded data removed]",
      "text/plain": [
       "<Figure size 500x500 with 1 Axes>"
      ]
     },
     "metadata": {},
     "output_type": "display_data"
    }
   ],
   "source": [
    "fig, axis = plt.subplots(figsize=(5, 5))\n",
    "axis.set_xticks([])\n",
    "axis.set_yticks([])\n",
    "patch = plt.imshow(data.iloc[0][0], cmap=plt.cm.binary)\n",
    "\n",
    "def animate(frame):\n",
    "    patch.set_data(data.iloc[frame][0])\n",
    "\n",
    "anim = animation.FuncAnimation(fig, animate, frames=1000, interval=10)"
   ]
  },
  {
   "cell_type": "code",
   "execution_count": 1078,
   "metadata": {},
   "outputs": [],
   "source": [
    "# anim"
   ]
  }
 ],
 "metadata": {
  "kernelspec": {
   "display_name": "Python 3",
   "language": "python",
   "name": "python3"
  },
  "language_info": {
   "codemirror_mode": {
    "name": "ipython",
    "version": 3
   },
   "file_extension": ".py",
   "mimetype": "text/x-python",
   "name": "python",
   "nbconvert_exporter": "python",
   "pygments_lexer": "ipython3",
   "version": "3.12.0"
  }
 },
 "nbformat": 4,
 "nbformat_minor": 2
}
