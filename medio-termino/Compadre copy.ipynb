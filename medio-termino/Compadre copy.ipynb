{
 "cells": [
  {
   "cell_type": "code",
   "execution_count": 289,
   "metadata": {},
   "outputs": [],
   "source": [
    "from mesa import Agent, Model\n",
    "from mesa.space import MultiGrid\n",
    "from mesa.time import RandomActivation\n",
    "from mesa.datacollection import DataCollector\n",
    "\n",
    "import numpy as np\n",
    "import random\n",
    "\n",
    "%matplotlib inline\n",
    "import matplotlib\n",
    "import matplotlib.pyplot as plt\n",
    "import matplotlib.animation as animation\n",
    "plt.rcParams[\"animation.html\"] = \"jshtml\"\n",
    "matplotlib.rcParams['animation.embed_limit'] = 2**128\n",
    "\n",
    "# random.seed(67890)"
   ]
  },
  {
   "cell_type": "code",
   "execution_count": null,
   "metadata": {},
   "outputs": [],
   "source": [
    "class Box(Agent):\n",
    "    def __init__(self, unique_id, model):\n",
    "        super().__init__(unique_id, model)"
   ]
  },
  {
   "cell_type": "code",
   "execution_count": 290,
   "metadata": {},
   "outputs": [],
   "source": [
    "class Robot(Agent):\n",
    "    def __init__(self, unique_id, model):\n",
    "        super().__init__(unique_id, model)\n",
    "        self.box_carried = False\n",
    "        self.has_tower = False\n",
    "\n",
    "    def moveRandom(self):\n",
    "        possible_steps = self.model.grid.get_neighborhood(self.pos, moore=False, include_center=False)\n",
    "        new_position = random.choice(possible_steps)\n",
    "        self.model.grid.move_agent(self, new_position)\n",
    "\n",
    "    def look4tower(self):\n",
    "        neighbors = self.model.grid.get_neighbors(self.pos, moore=True, include_center=False)\n",
    "        has_box = False\n",
    "        for neighbor in neighbors:\n",
    "            if neighbor.isBox():\n",
    "                has_box = True\n",
    "        if has_box:\n",
    "            self.markTower()\n",
    "        else:\n",
    "            self.moveRandom()\n",
    "\n",
    "    def markTower(self):\n",
    "        possibles = self.model.grid.get_neighbors(self.pos, moore=True, include_center=False)\n",
    "        print(possibles)\n",
    "        # for possible in possibles:\n",
    "        #     if possible in self.model.towers:\n",
    "        #         possibles.remove(possible)\n",
    "        # count = 0\n",
    "        # for possible in possibles:\n",
    "            \n",
    "    # def look4Box(self):\n",
    "\n",
    "    # def move2tower(self):\n",
    "\n",
    "\n",
    "    def step(self):\n",
    "        self.markTower()\n",
    "        # if not self.box_carried and not self.has_tower:\n",
    "        #     self.look4tower()\n",
    "        # elif not self.box_carried and self.has_tower:\n",
    "        #     self.look4Box()\n",
    "        # elif self.box_carried and self.has_tower:\n",
    "        #     self.move2tower()"
   ]
  },
  {
   "cell_type": "code",
   "execution_count": 291,
   "metadata": {},
   "outputs": [],
   "source": [
    "def get_grid(model):\n",
    "    grid = np.full((model.width, model.height), 0)\n",
    "    for i in range(model.grid.width):\n",
    "        for j in range(model.grid.height):\n",
    "            if model.boxes[i][j] > 0:\n",
    "                grid[i][j] = model.boxes[i][j]\n",
    "    for (cell_content, (x,y)) in model.grid.coord_iter():\n",
    "        if cell_content:\n",
    "            grid[x][y] = 7\n",
    "    \n",
    "    return grid"
   ]
  },
  {
   "cell_type": "code",
   "execution_count": 292,
   "metadata": {},
   "outputs": [],
   "source": [
    "class WarehouseModel(Model):\n",
    "    def __init__(self, width, height, num_agents, num_boxes):\n",
    "        self.width = width\n",
    "        self.height = height\n",
    "        self.num_agents = num_agents\n",
    "        self.num_boxes = num_boxes\n",
    "\n",
    "        self.boxes = np.zeros((width, height))\n",
    "        self.towers = []\n",
    "\n",
    "        self.grid = MultiGrid(width, height, torus=False)\n",
    "        self.schedule = RandomActivation(self)\n",
    "        self.datacollector = DataCollector(model_reporters={\"Grid\": get_grid})\n",
    "\n",
    "        # Place agents\n",
    "        robotId = 0\n",
    "        for _ in range(self.num_agents):\n",
    "            a = Robot(robotId, self)\n",
    "            self.schedule.add(a)\n",
    "            pos = self.random_empty_cell()\n",
    "            while self.is_box(pos):\n",
    "                pos = self.random_empty_cell()\n",
    "            self.grid.place_agent(a, pos)\n",
    "            robotId += 1\n",
    "\n",
    "        # Place boxes\n",
    "        for _ in range(self.num_boxes):\n",
    "            pos = self.random_position()\n",
    "            while self.init_full(pos):\n",
    "                pos = self.random_position()\n",
    "            self.boxes[pos[0]][pos[1]] += 1\n",
    "\n",
    "    def is_box(self, pos):\n",
    "        return self.boxes[pos[0]][pos[1]] > 0\n",
    "    \n",
    "    def init_full(self, pos):\n",
    "        return self.boxes[pos[0]][pos[1]] == 3\n",
    "    \n",
    "    def is_tower_full(self, pos):\n",
    "        return self.boxes[pos[0]][pos[1]] == 5\n",
    "\n",
    "    def pick_box(self, pos):\n",
    "        if self.is_box(pos):\n",
    "            self.boxes[pos[0]][pos[1]] -= 1\n",
    "\n",
    "    def place_box(self, pos):\n",
    "        self.boxes[pos[0]][pos[1]] += 1\n",
    "\n",
    "    def count_carried_boxes(self):\n",
    "        return sum(agent.box_carried for agent in self.schedule.agents)\n",
    "\n",
    "    def random_empty_cell(self):\n",
    "        empty_cells = [(x, y) for x in range(self.width) for y in range(self.height) if self.grid.is_cell_empty((x, y))]\n",
    "        if not empty_cells:\n",
    "            raise Exception(\"No empty cells available.\")\n",
    "        return random.choice(empty_cells)\n",
    "    \n",
    "    def random_position(self):\n",
    "        x = random.randint(0, self.width - 1)\n",
    "        y = random.randint(0, self.height - 1)\n",
    "        return (x, y)\n",
    "\n",
    "    def is_simulation_done(self):\n",
    "        return np.all(np.logical_or(self.boxes == 0, self.boxes == 5))\n",
    "\n",
    "    def step(self):\n",
    "        self.datacollector.collect(self)\n",
    "        self.schedule.step()"
   ]
  },
  {
   "cell_type": "code",
   "execution_count": 293,
   "metadata": {},
   "outputs": [],
   "source": [
    "WIDTH = 4\n",
    "HEIGHT = 4\n",
    "NUM_AGENTS = 1\n",
    "NUM_BOXES = 2"
   ]
  },
  {
   "cell_type": "code",
   "execution_count": 294,
   "metadata": {},
   "outputs": [
    {
     "name": "stdout",
     "output_type": "stream",
     "text": [
      "[]\n",
      "[]\n",
      "[]\n",
      "[]\n",
      "[]\n",
      "[]\n",
      "[]\n",
      "[]\n",
      "[]\n",
      "[]\n"
     ]
    }
   ],
   "source": [
    "model = WarehouseModel(WIDTH, HEIGHT, NUM_AGENTS, NUM_BOXES)\n",
    "for i in range(10):\n",
    "    model.step()\n",
    "\n",
    "data = model.datacollector.get_model_vars_dataframe()"
   ]
  },
  {
   "cell_type": "code",
   "execution_count": 295,
   "metadata": {},
   "outputs": [
    {
     "name": "stderr",
     "output_type": "stream",
     "text": [
      "C:\\Users\\santi\\AppData\\Local\\Temp\\ipykernel_22468\\294774001.py:4: FutureWarning: Series.__getitem__ treating keys as positions is deprecated. In a future version, integer keys will always be treated as labels (consistent with DataFrame behavior). To access a value by position, use `ser.iloc[pos]`\n",
      "  patch = plt.imshow(data.iloc[0][0], cmap=plt.cm.binary)\n",
      "C:\\Users\\santi\\AppData\\Local\\Temp\\ipykernel_22468\\294774001.py:7: FutureWarning: Series.__getitem__ treating keys as positions is deprecated. In a future version, integer keys will always be treated as labels (consistent with DataFrame behavior). To access a value by position, use `ser.iloc[pos]`\n",
      "  patch.set_data(data.iloc[frame][0])\n"
     ]
    },
    {
     "data": {
      "image/png": "[encoded data removed]",
      "text/plain": [
       "<Figure size 500x500 with 1 Axes>"
      ]
     },
     "metadata": {},
     "output_type": "display_data"
    }
   ],
   "source": [
    "fig, axis = plt.subplots(figsize=(5, 5))\n",
    "axis.set_xticks([])\n",
    "axis.set_yticks([])\n",
    "patch = plt.imshow(data.iloc[0][0], cmap=plt.cm.binary)\n",
    "\n",
    "def animate(frame):\n",
    "    patch.set_data(data.iloc[frame][0])\n",
    "\n",
    "anim = animation.FuncAnimation(fig, animate, frames=1000, interval=10)"
   ]
  },
  {
   "cell_type": "code",
   "execution_count": 296,
   "metadata": {},
   "outputs": [],
   "source": [
    "# anim"
   ]
  }
 ],
 "metadata": {
  "kernelspec": {
   "display_name": "Python 3",
   "language": "python",
   "name": "python3"
  },
  "language_info": {
   "codemirror_mode": {
    "name": "ipython",
    "version": 3
   },
   "file_extension": ".py",
   "mimetype": "text/x-python",
   "name": "python",
   "nbconvert_exporter": "python",
   "pygments_lexer": "ipython3",
   "version": "3.12.0"
  }
 },
 "nbformat": 4,
 "nbformat_minor": 2
}
