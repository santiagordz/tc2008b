{
 "cells": [
  {
   "cell_type": "code",
   "execution_count": 808,
   "metadata": {},
   "outputs": [],
   "source": [
    "# Santiago Rodriguez Murialdo - A01704109\n",
    "# Actividad M1\n",
    "from mesa import Agent, Model \n",
    "from mesa.space import MultiGrid\n",
    "from mesa.time import RandomActivation\n",
    "from mesa.datacollection import DataCollector\n",
    "import numpy as np\n",
    "import time\n",
    "import random"
   ]
  },
  {
   "cell_type": "code",
   "execution_count": 809,
   "metadata": {},
   "outputs": [],
   "source": [
    "class CleaningAgent(Agent):\n",
    "    # Constructor del Agente\n",
    "    def __init__(self, id, model):\n",
    "        super().__init__(id, model)\n",
    "    \n",
    "    # Funcion para mover el agente basado en su entorno\n",
    "    def move(self):\n",
    "        neighborhood = self.model.grid.get_neighborhood(self.pos, moore=True, include_center=False) # Ver vecinos\n",
    "        open_cells = [cell for cell in neighborhood if not self.model.grid.get_cell_list_contents(cell)] # Ver celdas disponibles\n",
    "        if open_cells:  # Si hay celdas disponibles\n",
    "            new_position = self.random.choice(open_cells) # Posision aleatoria dentro de las disponibles\n",
    "            self.model.grid.move_agent(self, new_position) # Mover al agente\n",
    "\n",
    "    # Funcion step que hay que definir\n",
    "    def step(self):\n",
    "        if self.model.is_dirt(self.pos): # Si la celda actual tiene basura\n",
    "            self.model.clean_dirt(self.pos) # Limpiar\n",
    "            self.move() # Mover\n",
    "        else:\n",
    "            self.move() # Mover"
   ]
  },
  {
   "cell_type": "code",
   "execution_count": 810,
   "metadata": {},
   "outputs": [],
   "source": [
    "class CleaningModel(Model):\n",
    "    # Constructor del Modelo\n",
    "    def __init__(self, width, height, num_agents, dirty_cells, max_steps):\n",
    "        self.num_agents = num_agents # Numero de Agentes\n",
    "        self.grid = MultiGrid(width, height, torus=False) # Espacio donde van a vivir los agentes\n",
    "        self.schedule = RandomActivation(self) # Activar de manera aleatoria \n",
    "        self.max_steps = max_steps # Numero maximo de pasos a ejecutar\n",
    "        self.steps = 0 # Contador de pasos\n",
    "        self.dirt = np.zeros((width, height)) # Arreglo 2D de 0 para iniciar basura\n",
    "\n",
    "        # Inicializar basura\n",
    "        num_dirty_cells = int(width * height * dirty_cells) # Cantidad de basura\n",
    "        all_cells = [(x, y) for x in range(width) for y in range(height)] # Lista con coordenadas disponibles        \n",
    "        random.shuffle(all_cells) # Mezclar aleatoriamente las coordenadas disponibles\n",
    "        dirty_cells = all_cells[:num_dirty_cells] # Guardar rango de # de basuras\n",
    "        for cell in dirty_cells:\n",
    "            self.dirt[cell] = 1 # Guardar basura\n",
    "\n",
    "        # Inicializar Agentes\n",
    "        for i in range(num_agents):\n",
    "            agent = CleaningAgent(i, self) # Crear Objeto\n",
    "            self.grid.place_agent(agent, (1, 1)) # Ponerlo en el grid en la posicion (1, 1)\n",
    "            self.schedule.add(agent) # Agregarloal schedule\n",
    "\n",
    "    # Funcion para checar si es basura\n",
    "    def is_dirt(self, pos):\n",
    "        return self.dirt[pos[0]][pos[1]] == 1\n",
    "\n",
    "    # Funcion para limpiar\n",
    "    def clean_dirt(self, pos):\n",
    "        self.dirt[pos[0]][pos[1]] = 0\n",
    "    \n",
    "    # Funcion step\n",
    "    def step(self):\n",
    "        self.schedule.step()\n",
    "        self.steps += 1 # Aumentar step\n"
   ]
  },
  {
   "cell_type": "code",
   "execution_count": 811,
   "metadata": {},
   "outputs": [],
   "source": [
    "# Funcion para correr la simulacion\n",
    "def run_cleaning_simulation(width, height, num_agents, dirty_cells, max_steps):\n",
    "    model = CleaningModel(width, height, num_agents, dirty_cells, max_steps) # Crear objeto modelo\n",
    "    for step in range(max_steps):\n",
    "        model.step()\n",
    "        if np.all(model.dirt == 0): # Si model.grid.dirt son puros 0\n",
    "            return (\n",
    "                step, # Numero de step\n",
    "                (1 - np.mean(model.dirt)) * 100 # Porcentaje de limpios\n",
    "            )\n",
    "    # Si se corren todos los steps y aun no se limpia todo\n",
    "    return (\n",
    "        max_steps, \n",
    "        (1 - np.mean(model.dirt)) * 100 \n",
    "    )"
   ]
  },
  {
   "cell_type": "code",
   "execution_count": 812,
   "metadata": {},
   "outputs": [
    {
     "name": "stdout",
     "output_type": "stream",
     "text": [
      "The simulation ran in: 0.04798483848571777\n",
      "The simulation took: 100 steps\n",
      "Percentage of clean cells: 11.6%\n"
     ]
    }
   ],
   "source": [
    "# CONSTANTES\n",
    "WIDTH = 100\n",
    "HEIGHT = 100\n",
    "NUM_AGENTS = 10\n",
    "DIRTY_CELLS = .9\n",
    "MAX_STEPS = 100\n",
    "\n",
    "start_time = time.time() # Empezar timer\n",
    "result = run_cleaning_simulation(WIDTH, HEIGHT, NUM_AGENTS, DIRTY_CELLS, MAX_STEPS) # Llamar funcion\n",
    "total_time =  time.time() - start_time # Detener timer\n",
    "\n",
    "print(\"The simulation ran in: \" + str(total_time))\n",
    "print(\"The simulation took: \" + str(result[0]) + \" steps\")\n",
    "print(\"Percentage of clean cells: \" + str(result[1]) + \"%\")"
   ]
  }
 ],
 "metadata": {
  "kernelspec": {
   "display_name": "Python 3",
   "language": "python",
   "name": "python3"
  },
  "language_info": {
   "codemirror_mode": {
    "name": "ipython",
    "version": 3
   },
   "file_extension": ".py",
   "mimetype": "text/x-python",
   "name": "python",
   "nbconvert_exporter": "python",
   "pygments_lexer": "ipython3",
   "version": "3.11.4"
  },
  "orig_nbformat": 4
 },
 "nbformat": 4,
 "nbformat_minor": 2
}
